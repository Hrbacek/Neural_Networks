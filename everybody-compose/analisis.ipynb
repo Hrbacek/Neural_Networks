{
 "cells": [
  {
   "cell_type": "markdown",
   "metadata": {},
   "source": [
    "## Análisis y comparación de resultados \n",
    "\n",
    "| Autor      | Modelo                          | Precisión en entrenamiento | Precisión en validación |\n",
    "|------------|---------------------------------|---------------------------|-------------------------|\n",
    "| Original   | Decoder Only Vanilla RNN       | 0.4170                    | 0.3908                  |\n",
    "| Original   | LSTM con Atención Completa     | 0.5506                    | 0.4218                  |\n",
    "| Original   | LSTM con Atención Local        | 0.7079                    | 0.5077                  |\n",
    "| Replicación| Decoder Only Vanilla RNN       | 0.4227                    | 0.3657                  |\n",
    "| Replicación| LSTM con Atención Completa     | 0.6881                    | 0.4423                  |\n",
    "| Replicación| LSTM con Atención Local        | 0.5825                    | 0.4532                  |\n",
    "\n",
    "- El modelo original \"Decoder Only Vanilla RNN\" obtuvo una precisión similar en el entrenamiento en comparación con la replicación, pero la precisión en la validación fue ligeramente inferior en la replicación.\n",
    "\n",
    "- El modelo original \"LSTM con Atención Completa\" tuvo una precisión más alta tanto en el entrenamiento como en la validación en comparación con la replicación. La replicación logró una precisión cercana en el entrenamiento, pero su precisión en la validación fue más baja.\n",
    "\n",
    "- El modelo original \"LSTM con Atención Local\" mostró una gran diferencia de precisión entre el entrenamiento y la validación, lo que indica un posible sobreajuste. La replicación tuvo una precisión más baja en ambos conjuntos de datos, pero la diferencia entre el entrenamiento y la validación fue menor.\n",
    "\n",
    "En general, se puede observar que la replicación no logró alcanzar los mismos niveles de precisión que los modelos originales en la mayoría de los casos. \n",
    "\n",
    "¿Qué están señalando los datos?\n",
    "- Si la precisión en la validación es significativamente menor que la precisión en el entrenamiento, sugiere que el modelo está sobreajustando los datos de entrenamiento.\n",
    "- La precisión en la validación proporciona una estimación de qué tan bien es probable que el modelo funcione en datos no vistos."
   ]
  }
 ],
 "metadata": {
  "kernelspec": {
   "display_name": "Python 3 (ipykernel)",
   "language": "python",
   "name": "python3"
  },
  "language_info": {
   "codemirror_mode": {
    "name": "ipython",
    "version": 3
   },
   "file_extension": ".py",
   "mimetype": "text/x-python",
   "name": "python",
   "nbconvert_exporter": "python",
   "pygments_lexer": "ipython3",
   "version": "3.9.7"
  }
 },
 "nbformat": 4,
 "nbformat_minor": 2
}
